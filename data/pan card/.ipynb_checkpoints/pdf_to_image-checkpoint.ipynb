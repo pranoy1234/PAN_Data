{
 "cells": [
  {
   "cell_type": "code",
   "execution_count": 2,
   "metadata": {},
   "outputs": [],
   "source": [
    "from wand.image import Image as wi\n",
    "f_name='/home/user/project/aadhar/data/pan card/Sutapa PAN .pdf'\n",
    "pdf = wi(filename=f_name,resolution=300)\n",
    "pdfImage=pdf.convert(\"jpg\")\n",
    "i=0\n",
    "for img in pdfImage.sequence:\n",
    "    page=wi(image=img)\n",
    "    page.save(filename=f_name.split('.')[0]+'_'+str(i+1)+'.jpeg')\n",
    "    i=i+1"
   ]
  },
  {
   "cell_type": "code",
   "execution_count": null,
   "metadata": {},
   "outputs": [],
   "source": []
  }
 ],
 "metadata": {
  "kernelspec": {
   "display_name": "Python 3",
   "language": "python",
   "name": "python3"
  },
  "language_info": {
   "codemirror_mode": {
    "name": "ipython",
    "version": 3
   },
   "file_extension": ".py",
   "mimetype": "text/x-python",
   "name": "python",
   "nbconvert_exporter": "python",
   "pygments_lexer": "ipython3",
   "version": "3.7.3"
  }
 },
 "nbformat": 4,
 "nbformat_minor": 2
}
